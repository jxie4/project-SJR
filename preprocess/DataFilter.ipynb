{
 "cells": [
  {
   "cell_type": "code",
   "execution_count": 1,
   "metadata": {
    "collapsed": true
   },
   "outputs": [],
   "source": [
    "import string\n",
    "import os"
   ]
  },
  {
   "cell_type": "code",
   "execution_count": 2,
   "metadata": {
    "collapsed": true
   },
   "outputs": [],
   "source": [
    "def remove(s,t):\n",
    "    st =s.split(t,len(s))\n",
    "    ns = \"\"\n",
    "    for r in st:\n",
    "        ns = ns + r\n",
    "    return ns"
   ]
  },
  {
   "cell_type": "code",
   "execution_count": 3,
   "metadata": {
    "collapsed": false
   },
   "outputs": [],
   "source": [
    "def select(ind, country, year, olddata):\n",
    "    data=[]\n",
    "    items=[]\n",
    "    nonem=0\n",
    "    fn = ind\n",
    "    for item in olddata:\n",
    "        #items = item.split(str=\",\",num=string.count(items))\n",
    "        items = item.split(\",\",len(item))\n",
    "        temps = item.split(\"\\\"\", len(item))\n",
    "        offset = len(items)-61\n",
    "        #print items[offset+3],\" \",items[0]\n",
    "        if (ind != items[offset+3]):\n",
    "            continue;\n",
    "        if (items[0] not in country):\n",
    "            continue;\n",
    "        #print items\n",
    "        st=items[0] + \",\"+items[1]\n",
    "        for y in year:\n",
    "            k = int(y) - 1956 + offset;\n",
    "            st= st+\",\"+items[k]\n",
    "            if items[k] !=\"\":\n",
    "                nonem = nonem +1\n",
    "        data.append(st)\n",
    "        if len(temps)>1:\n",
    "            fn=temps[1]\n",
    "        else:\n",
    "            fn=items[2]\n",
    "    print fn, \" coverage \", float(nonem)/(len(year) * len(country))\n",
    "    directory=\"newdata\"\n",
    "    if not os.path.exists(directory):\n",
    "        os.makedirs(directory)\n",
    "    fn = remove(fn,\" \")\n",
    "    fn = remove(fn,\",\")\n",
    "    fn = remove(fn,\"(\")\n",
    "    fn = remove(fn,\")\")\n",
    "    fn = remove(fn,\"%\")\n",
    "    fn = remove(fn,\"-\")\n",
    "    fn=fn+\".csv\"\n",
    "    f = open(os.path.join(directory,fn) ,\"w+\")\n",
    "    fline=\"Country Name, Country Code\"\n",
    "    for y in year:\n",
    "        fline = fline +\",\"+y\n",
    "    f.write(fline+\"\\n\")\n",
    "    for i in data:\n",
    "        f.write(i+\"\\n\")\n",
    "    f.close()\n",
    "    return"
   ]
  },
  {
   "cell_type": "code",
   "execution_count": 4,
   "metadata": {
    "collapsed": false
   },
   "outputs": [],
   "source": [
    "def load(file):\n",
    "    #f = open(file,\"r\")\n",
    "    lset = []\n",
    "    for line in open(file,\"r\"):\n",
    "        line = line.rstrip('\\n')\n",
    "        lset.append(line)\n",
    "    print file,\" \",len(lset), \" items is loads\"\n",
    "    return lset"
   ]
  },
  {
   "cell_type": "code",
   "execution_count": 5,
   "metadata": {
    "collapsed": false
   },
   "outputs": [
    {
     "name": "stdout",
     "output_type": "stream",
     "text": [
      "country   10  items is loads\n",
      "year   21  items is loads\n",
      "indicator   19  items is loads\n",
      "WDI_Data.csv   381745  items is loads\n",
      "School enrollment, secondary, female (% gross)  coverage  0.661904761905\n",
      "School enrollment, secondary, male (% gross)  coverage  0.661904761905\n",
      "Employment in agriculture (% of total employment)  coverage  0.690476190476\n",
      "Employment in services (% of total employment)  coverage  0.7\n",
      "Labor force participation rate for ages 15-24, female (%) (modeled ILO estimate)  coverage  0.8\n",
      "Labor force participation rate for ages 15-24, male (%) (modeled ILO estimate)  coverage  0.8\n",
      "Unemployment, youth female (% of female labor force ages 15-24) (modeled ILO estimate)  coverage  0.8\n",
      "Unemployment, youth male (% of male labor force ages 15-24) (modeled ILO estimate)  coverage  0.8\n",
      "Unemployment, youth total (% of total labor force ages 15-24) (modeled ILO estimate)  coverage  0.8\n",
      "Mortality rate, under-5 (per 1,000 live births)  coverage  0.8\n",
      "Mortality rate, adult, female (per 1,000 female adults)  coverage  0.733333333333\n",
      "Mortality rate, adult, male (per 1,000 male adults)  coverage  0.733333333333\n",
      "Life expectancy at birth, female (years)  coverage  0.8\n",
      "Life expectancy at birth, total (years)  coverage  0.8\n",
      "Life expectancy at birth, male (years)  coverage  0.8\n",
      "SP.DYN.T065.FE.ZS  coverage  0.0\n",
      "SP.DYN.T065.MA.ZS  coverage  0.0\n",
      "Fertility rate, total (births per woman)  coverage  0.8\n",
      "polity2  coverage  0.0\n"
     ]
    }
   ],
   "source": [
    "if __name__ == \"__main__\":\n",
    "    country=load(\"country\")\n",
    "    year=load(\"year\")\n",
    "    indicator=load(\"indicator\")\n",
    "    data=load(\"WDI_Data.csv\")\n",
    "    for ind in indicator:\n",
    "        select(ind,country,year,data)"
   ]
  },
  {
   "cell_type": "code",
   "execution_count": null,
   "metadata": {
    "collapsed": true
   },
   "outputs": [],
   "source": []
  },
  {
   "cell_type": "code",
   "execution_count": null,
   "metadata": {
    "collapsed": true
   },
   "outputs": [],
   "source": []
  },
  {
   "cell_type": "code",
   "execution_count": null,
   "metadata": {
    "collapsed": true
   },
   "outputs": [],
   "source": []
  },
  {
   "cell_type": "code",
   "execution_count": null,
   "metadata": {
    "collapsed": true
   },
   "outputs": [],
   "source": []
  },
  {
   "cell_type": "code",
   "execution_count": null,
   "metadata": {
    "collapsed": true
   },
   "outputs": [],
   "source": []
  },
  {
   "cell_type": "code",
   "execution_count": null,
   "metadata": {
    "collapsed": true
   },
   "outputs": [],
   "source": []
  },
  {
   "cell_type": "code",
   "execution_count": null,
   "metadata": {
    "collapsed": true
   },
   "outputs": [],
   "source": []
  },
  {
   "cell_type": "code",
   "execution_count": null,
   "metadata": {
    "collapsed": true
   },
   "outputs": [],
   "source": []
  }
 ],
 "metadata": {
  "kernelspec": {
   "display_name": "Python 2",
   "language": "python",
   "name": "python2"
  },
  "language_info": {
   "codemirror_mode": {
    "name": "ipython",
    "version": 2
   },
   "file_extension": ".py",
   "mimetype": "text/x-python",
   "name": "python",
   "nbconvert_exporter": "python",
   "pygments_lexer": "ipython2",
   "version": "2.7.11"
  }
 },
 "nbformat": 4,
 "nbformat_minor": 0
}
